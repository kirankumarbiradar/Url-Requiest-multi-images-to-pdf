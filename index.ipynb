{
 "cells": [
  {
   "cell_type": "code",
   "execution_count": 3,
   "id": "a77d1444",
   "metadata": {
    "ExecuteTime": {
     "end_time": "2021-12-23T06:10:17.156824Z",
     "start_time": "2021-12-23T06:10:12.444547Z"
    }
   },
   "outputs": [
    {
     "name": "stdout",
     "output_type": "stream",
     "text": [
      "Starts From :4\n",
      "Ends Till :6\n",
      "Loading...\n",
      "4  :  6\n",
      "5  :  6\n",
      "done\n"
     ]
    }
   ],
   "source": [
    "import requests\n",
    "from PIL import Image\n",
    "\n",
    "# using time module\n",
    "import time\n",
    "\n",
    "#range replace 1 to any...\n",
    "ra = int(input(\"Starts From :\"))\n",
    "i = int(input(\"Ends Till :\"))\n",
    "imagelist = []\n",
    "\n",
    "img_path = r\"C:\\Users\\kiran\\push github\\temp image_\\/\" # image path where u want to save temproray\n",
    "save_pdf_path = r\"C:\\Users\\kiran\\push github\\PDF Here\\/\"  # converte images to pdf path \n",
    "url = \"https://image.slidesharecdn.com/datareportal20200130gd001digital2020globaldigitaloverviewjanuary2020v01-200130025629/95/digital-2020-global-digital-overview-january-2020-v01-\" # half url 1st\n",
    "url2 =\"-638.jpg?cb=1596755441\"  # half url 2nd \n",
    "folder_p = 'temp image_\\/{0}.jpg' # folder name example : temp image_\n",
    "\n",
    "def download_img_total(time,img_path,url1,url2):\n",
    "    \n",
    "    print('Loading...')\n",
    "    for i in range(ra,time) :\n",
    "        print(i,\" : \",time )\n",
    "        \n",
    "        ####### post man requiest ############\n",
    "        url = url1+str(i)+url2\n",
    "        \n",
    "        if i == 0:\n",
    "            url = url+url2\n",
    "        payload={}\n",
    "        headers = {}\n",
    "        response = requests.request(\"GET\", url, headers=headers, data=payload)\n",
    "               ##############\n",
    "            \n",
    "        with open(folder_p.format(i),'wb') as f: \n",
    "            f.write(response.content)\n",
    "\n",
    "\n",
    "def img_2_pdf_total(time,img_path):\n",
    "    for i in range(ra ,time) :\n",
    "        \n",
    "        image1 = Image.open(img_path+str(i)+'.jpg') \n",
    "        im1 = image1.convert('RGB')\n",
    "        imagelist.append(im1)\n",
    "        \n",
    "download_img_total(i,img_path,url,url2)    \n",
    "img_2_pdf_total(i,img_path) \n",
    "\n",
    "# ts stores the time in seconds\n",
    "ts = time.time()\n",
    "\n",
    "imagelist[0].save(save_pdf_path+str(ts)+'_from_'+str(ra)+'_total_'+str(i)+'.pdf',save_all=True, append_images=imagelist)\n",
    "imagelist = []\n",
    "\n",
    "#delete images\n",
    "#-------------------------------#\n",
    "#importing os module\n",
    "import os\n",
    "\n",
    "#providing the path of the folder\n",
    "#r = raw string literal\n",
    "folder_path = (img_path)\n",
    "\n",
    "#using listdir() method to list the files of the folder\n",
    "test = os.listdir(folder_path)\n",
    "\n",
    "#taking a loop to remove all the images\n",
    "#using \".png\" extension to remove only png images\n",
    "#using os.remove() method to remove the files\n",
    "\n",
    "for images in test:\n",
    "    if images.endswith(\".jpg\"):\n",
    "        os.remove(os.path.join(folder_path, images))\n",
    "#------------------------------------------------------#\n",
    "print(\"done\")"
   ]
  }
 ],
 "metadata": {
  "kernelspec": {
   "display_name": "Python 3 (ipykernel)",
   "language": "python",
   "name": "python3"
  },
  "language_info": {
   "codemirror_mode": {
    "name": "ipython",
    "version": 3
   },
   "file_extension": ".py",
   "mimetype": "text/x-python",
   "name": "python",
   "nbconvert_exporter": "python",
   "pygments_lexer": "ipython3",
   "version": "3.9.7"
  },
  "latex_envs": {
   "LaTeX_envs_menu_present": true,
   "autoclose": false,
   "autocomplete": true,
   "bibliofile": "biblio.bib",
   "cite_by": "apalike",
   "current_citInitial": 1,
   "eqLabelWithNumbers": true,
   "eqNumInitial": 1,
   "hotkeys": {
    "equation": "Ctrl-E",
    "itemize": "Ctrl-I"
   },
   "labels_anchors": false,
   "latex_user_defs": false,
   "report_style_numbering": false,
   "user_envs_cfg": false
  },
  "toc": {
   "base_numbering": 1,
   "nav_menu": {},
   "number_sections": true,
   "sideBar": true,
   "skip_h1_title": false,
   "title_cell": "Table of Contents",
   "title_sidebar": "Contents",
   "toc_cell": false,
   "toc_position": {},
   "toc_section_display": true,
   "toc_window_display": false
  },
  "varInspector": {
   "cols": {
    "lenName": 16,
    "lenType": 16,
    "lenVar": 40
   },
   "kernels_config": {
    "python": {
     "delete_cmd_postfix": "",
     "delete_cmd_prefix": "del ",
     "library": "var_list.py",
     "varRefreshCmd": "print(var_dic_list())"
    },
    "r": {
     "delete_cmd_postfix": ") ",
     "delete_cmd_prefix": "rm(",
     "library": "var_list.r",
     "varRefreshCmd": "cat(var_dic_list()) "
    }
   },
   "types_to_exclude": [
    "module",
    "function",
    "builtin_function_or_method",
    "instance",
    "_Feature"
   ],
   "window_display": false
  }
 },
 "nbformat": 4,
 "nbformat_minor": 5
}
